{
 "cells": [
  {
   "cell_type": "code",
   "execution_count": null,
   "metadata": {},
   "outputs": [],
   "source": [
    "# List ( Array - Data structure) Only dynamic array in python\n",
    "# Dict (Hash Table)"
   ]
  },
  {
   "cell_type": "code",
   "execution_count": null,
   "metadata": {},
   "outputs": [],
   "source": [
    "# Strock price of continuous days\n",
    "lst = [23,45,56,69]"
   ]
  },
  {
   "cell_type": "code",
   "execution_count": null,
   "metadata": {},
   "outputs": [],
   "source": [
    "# for checking first day price\n",
    "lst[0]"
   ]
  },
  {
   "cell_type": "code",
   "execution_count": null,
   "metadata": {},
   "outputs": [],
   "source": [
    "# What if the prices of different dates we have, to access ?\n",
    "dict = {'Apr26': 254,'Apr27': 500, 'Apr28': 488,'Apr29':50,'Apr30': 600}\n",
    "# If to access from Apr27 to Apr30"
   ]
  },
  {
   "cell_type": "code",
   "execution_count": null,
   "metadata": {},
   "outputs": [],
   "source": [
    "dict['Apr26'] # O(1)"
   ]
  },
  {
   "cell_type": "markdown",
   "metadata": {},
   "source": [
    "### BigO notation\n",
    "- Used to measure running time or space requirements as input size grows\n",
    "- time = a*n + b\n",
    "Dropping constant\n",
    "- O(n) order of n"
   ]
  },
  {
   "cell_type": "code",
   "execution_count": null,
   "metadata": {},
   "outputs": [],
   "source": [
    "# O(n) example \n",
    "\n",
    "def square_num(number):\n",
    "    square_numbers = []\n",
    "    for i in number:\n",
    "        square_numbers = number.append(i*i)\n",
    "    return square_numbers\n",
    "    "
   ]
  },
  {
   "cell_type": "code",
   "execution_count": null,
   "metadata": {},
   "outputs": [],
   "source": [
    "numbers = [1,2,3,4,5,6]\n",
    "square_num(numbers)"
   ]
  },
  {
   "cell_type": "code",
   "execution_count": null,
   "metadata": {},
   "outputs": [],
   "source": [
    "# Time = a  - input size is large\n",
    "# time = O(1) complexisity\n",
    "\n",
    "def find_first_pe(prices,eps,index):\n",
    "    pe = prices [index]/eps[index]\n",
    "    return pe"
   ]
  },
  {
   "cell_type": "code",
   "execution_count": 11,
   "metadata": {},
   "outputs": [
    {
     "name": "stdout",
     "output_type": "stream",
     "text": [
      "3\n",
      "6\n"
     ]
    }
   ],
   "source": [
    "# O(n^2)\n",
    "\n",
    "number = [3,6,2,4,3,6,8,9]\n",
    "\n",
    "for i in range(len(number)):\n",
    "    for j in range(i+1, len(number)):\n",
    "        if number[i] == number[j]:\n",
    "            print(number[i])\n",
    "            break\n",
    "            \n",
    "# O(n)\n",
    "duplicate = None\n",
    "for i in range(len(number)):\n",
    "    if number[i] == duplicate:\n",
    "        print(i)"
   ]
  },
  {
   "cell_type": "code",
   "execution_count": 13,
   "metadata": {},
   "outputs": [
    {
     "name": "stdout",
     "output_type": "stream",
     "text": [
      "5\n"
     ]
    }
   ],
   "source": [
    "numbers = [4,9,15,21,34,57,68,91] #O(n)\n",
    "\n",
    "for i in range(len(numbers)):\n",
    "    if numbers[i] == 57:\n",
    "         print(i)"
   ]
  },
  {
   "cell_type": "code",
   "execution_count": 14,
   "metadata": {},
   "outputs": [],
   "source": [
    "#Binary search (checking the mid value to see on left side if not eliminate)\n",
    "# k = n/2^k\n",
    "# K = O(logn)"
   ]
  },
  {
   "cell_type": "code",
   "execution_count": 15,
   "metadata": {},
   "outputs": [],
   "source": [
    "# Array Data Structure \n",
    "# Let us say your expense for every month are listed below,\n",
    "# 1. January -  2200\n",
    "# 2. February - 2350\n",
    "# 3. March - 2600\n",
    "# 4. April - 2130\n",
    "# 5. May - 2190\n",
    "#\n",
    "# Create a list to store these monthly expenses and using that find out,\n",
    "#\n",
    "# 1. In Feb, how many dollars you spent extra compare to January?\n",
    "# 2. Find out your total expense in first quarter (first three months) of the year.\n",
    "# 3. Find out if you spent exactly 2000 dollars in any month\n",
    "# 4. June month just finished and your expense is 1980 dollar. Add this item to our monthly expense list\n",
    "# 5. You returned an item that you bought in a month of April and\n",
    "# got a refund of 400$. Make a correction to your monthly expense list\n",
    "# based on this"
   ]
  },
  {
   "cell_type": "code",
   "execution_count": 16,
   "metadata": {},
   "outputs": [],
   "source": [
    "exp = [2200, 2350, 2600, 2130, 2190]"
   ]
  },
  {
   "cell_type": "code",
   "execution_count": 17,
   "metadata": {},
   "outputs": [
    {
     "name": "stdout",
     "output_type": "stream",
     "text": [
      "Feb Expence compare to Jan 150\n"
     ]
    }
   ],
   "source": [
    "print('Feb Expence compare to Jan', exp[1]- exp[0])"
   ]
  },
  {
   "cell_type": "code",
   "execution_count": 18,
   "metadata": {},
   "outputs": [
    {
     "name": "stdout",
     "output_type": "stream",
     "text": [
      "Total expense in first three months 7150\n"
     ]
    }
   ],
   "source": [
    "print(\"Total expense in first three months\", exp[0] +exp[1] +exp[2])"
   ]
  },
  {
   "cell_type": "code",
   "execution_count": 19,
   "metadata": {},
   "outputs": [
    {
     "name": "stdout",
     "output_type": "stream",
     "text": [
      "2000 dollars spent in any month False\n"
     ]
    }
   ],
   "source": [
    "print(\"2000 dollars spent in any month\", 2000 in exp)"
   ]
  },
  {
   "cell_type": "code",
   "execution_count": 22,
   "metadata": {},
   "outputs": [
    {
     "name": "stdout",
     "output_type": "stream",
     "text": [
      "Expenses at the end of June is [2200, 2350, 2600, 2130, 2190, 1980, 1980]\n"
     ]
    }
   ],
   "source": [
    "exp.append(1980)\n",
    "print(\"Expenses at the end of June is\", exp)"
   ]
  },
  {
   "cell_type": "code",
   "execution_count": 24,
   "metadata": {},
   "outputs": [
    {
     "name": "stdout",
     "output_type": "stream",
     "text": [
      "Expenses after refund amount in April [2200, 2350, 2600, 1730, 2190, 1980, 1980]\n"
     ]
    }
   ],
   "source": [
    "exp[3] = exp[3]-400\n",
    "print(\"Expenses after refund amount in April\" , exp)"
   ]
  },
  {
   "cell_type": "code",
   "execution_count": 26,
   "metadata": {},
   "outputs": [],
   "source": [
    "# 2. You have a list of your favourite marvel super heros\n",
    "\n",
    "heros=['spider man','thor','hulk','iron man','captain america']"
   ]
  },
  {
   "cell_type": "code",
   "execution_count": 27,
   "metadata": {},
   "outputs": [
    {
     "data": {
      "text/plain": [
       "5"
      ]
     },
     "execution_count": 27,
     "metadata": {},
     "output_type": "execute_result"
    }
   ],
   "source": [
    "len(heros)"
   ]
  },
  {
   "cell_type": "code",
   "execution_count": 31,
   "metadata": {},
   "outputs": [
    {
     "data": {
      "text/plain": [
       "['spider man', 'thor', 'hulk', 'iron man', 'captain america', 'black panther']"
      ]
     },
     "execution_count": 31,
     "metadata": {},
     "output_type": "execute_result"
    }
   ],
   "source": [
    "heros.append('black panther')"
   ]
  },
  {
   "cell_type": "code",
   "execution_count": 32,
   "metadata": {},
   "outputs": [],
   "source": [
    "# 3. You realize that you need to add 'black panther' after 'hulk',\n",
    "# so remove it from the list first and then add it after 'hulk'\n",
    "heros.remove('black panther')\n",
    "heros.insert(3,'black panther')"
   ]
  },
  {
   "cell_type": "code",
   "execution_count": 33,
   "metadata": {},
   "outputs": [
    {
     "data": {
      "text/plain": [
       "['spider man', 'thor', 'hulk', 'black panther', 'iron man', 'captain america']"
      ]
     },
     "execution_count": 33,
     "metadata": {},
     "output_type": "execute_result"
    }
   ],
   "source": [
    "heros"
   ]
  },
  {
   "cell_type": "code",
   "execution_count": 49,
   "metadata": {},
   "outputs": [],
   "source": [
    "# Now you don't like thor and hulk because they get angry easily :)\n",
    "#    So you want to remove thor and hulk from list and replace them with doctor strange (because he is cool).\n",
    "#    Do that with one line of code.\n",
    "#\n",
    "heros[1:3] = 'doctor strange' #this mistake result below it's good to do and fix ourself :)"
   ]
  },
  {
   "cell_type": "code",
   "execution_count": 52,
   "metadata": {},
   "outputs": [],
   "source": [
    "unwanted = {'D',\n",
    " 'o',\n",
    " 'c',\n",
    " 't',\n",
    " 'o',\n",
    " 'r',\n",
    " ' d',\n",
    " 's',\n",
    " 't',\n",
    " 'r',\n",
    " 'a',\n",
    " 'n',\n",
    " 'g',\n",
    " 'e',}"
   ]
  },
  {
   "cell_type": "code",
   "execution_count": 53,
   "metadata": {},
   "outputs": [
    {
     "data": {
      "text/plain": [
       "['spider man', 'd', 'captain america']"
      ]
     },
     "execution_count": 53,
     "metadata": {},
     "output_type": "execute_result"
    }
   ],
   "source": [
    "heros = [ i for i in heros if i not in unwanted]\n",
    "heros"
   ]
  },
  {
   "cell_type": "code",
   "execution_count": 57,
   "metadata": {},
   "outputs": [
    {
     "data": {
      "text/plain": [
       "['spider man', 'doctor strange', 'captain america']"
      ]
     },
     "execution_count": 57,
     "metadata": {},
     "output_type": "execute_result"
    }
   ],
   "source": [
    "heros[1] = 'doctor strange'\n",
    "heros"
   ]
  },
  {
   "cell_type": "code",
   "execution_count": 59,
   "metadata": {},
   "outputs": [
    {
     "data": {
      "text/plain": [
       "['captain america', 'doctor strange', 'spider man']"
      ]
     },
     "execution_count": 59,
     "metadata": {},
     "output_type": "execute_result"
    }
   ],
   "source": [
    "# sort\n",
    "heros.sort()\n",
    "heros"
   ]
  },
  {
   "cell_type": "code",
   "execution_count": 60,
   "metadata": {},
   "outputs": [
    {
     "name": "stdout",
     "output_type": "stream",
     "text": [
      "Enter max number:14\n",
      "odd numbers: [1, 3, 5, 7, 9, 11, 13]\n"
     ]
    }
   ],
   "source": [
    "# Create a list of all odd numbers between 1 and a max number. Max number is something you need to take from a user using input() function\n",
    "\n",
    "max = int(input(\"Enter max number:\"))\n",
    "\n",
    "odd_num = []\n",
    "\n",
    "for i in range(max):\n",
    "    if i%2!=0:\n",
    "        odd_num.append(i)\n",
    "print(\"odd numbers:\" , odd_num)"
   ]
  },
  {
   "cell_type": "markdown",
   "metadata": {},
   "source": [
    "### Linked List\n",
    "- Insert , delete is O(1) at the begging\n",
    "- Insert , delete is O(n) at the end.\n",
    "- Linkedlist main benefit over array - \n",
    "- 1. You don't need to pre-allocate space\n",
    "- 2. Insertion is easier"
   ]
  },
  {
   "cell_type": "markdown",
   "metadata": {},
   "source": [
    "### OOPS"
   ]
  },
  {
   "cell_type": "code",
   "execution_count": 97,
   "metadata": {},
   "outputs": [
    {
     "ename": "SyntaxError",
     "evalue": "invalid syntax (<ipython-input-97-741415b4e8f7>, line 1)",
     "output_type": "error",
     "traceback": [
      "\u001b[1;36m  File \u001b[1;32m\"<ipython-input-97-741415b4e8f7>\"\u001b[1;36m, line \u001b[1;32m1\u001b[0m\n\u001b[1;33m    class # is design\u001b[0m\n\u001b[1;37m                     ^\u001b[0m\n\u001b[1;31mSyntaxError\u001b[0m\u001b[1;31m:\u001b[0m invalid syntax\n"
     ]
    }
   ],
   "source": [
    "## class - is design"
   ]
  },
  {
   "cell_type": "code",
   "execution_count": null,
   "metadata": {},
   "outputs": [],
   "source": [
    "#Method Resolution Order\n",
    "#Multiple inheritance - left to right"
   ]
  },
  {
   "cell_type": "code",
   "execution_count": null,
   "metadata": {},
   "outputs": [],
   "source": [
    "#Polymorphism - one thing in many forms\n",
    " "
   ]
  },
  {
   "cell_type": "code",
   "execution_count": null,
   "metadata": {},
   "outputs": [],
   "source": []
  }
 ],
 "metadata": {
  "kernelspec": {
   "display_name": "Python 3",
   "language": "python",
   "name": "python3"
  },
  "language_info": {
   "codemirror_mode": {
    "name": "ipython",
    "version": 3
   },
   "file_extension": ".py",
   "mimetype": "text/x-python",
   "name": "python",
   "nbconvert_exporter": "python",
   "pygments_lexer": "ipython3",
   "version": "3.7.10"
  }
 },
 "nbformat": 4,
 "nbformat_minor": 4
}
