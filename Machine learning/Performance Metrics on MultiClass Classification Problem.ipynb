{
 "cells": [
  {
   "cell_type": "code",
   "execution_count": 1,
   "id": "83bf4f5e",
   "metadata": {},
   "outputs": [],
   "source": [
    "from sklearn import metrics"
   ]
  },
  {
   "cell_type": "code",
   "execution_count": 2,
   "id": "6e9d80b7",
   "metadata": {},
   "outputs": [],
   "source": [
    "C='Cat'\n",
    "D='Dog'\n",
    "F='Fox'"
   ]
  },
  {
   "cell_type": "code",
   "execution_count": 5,
   "id": "9c0ab104",
   "metadata": {},
   "outputs": [
    {
     "name": "stdout",
     "output_type": "stream",
     "text": [
      "[[4 1 1]\n",
      " [3 3 1]\n",
      " [5 2 1]]\n",
      "              precision    recall  f1-score   support\n",
      "\n",
      "         Cat      0.333     0.667     0.444         6\n",
      "         Dog      0.500     0.429     0.462         7\n",
      "         Fox      0.333     0.125     0.182         8\n",
      "\n",
      "    accuracy                          0.381        21\n",
      "   macro avg      0.389     0.407     0.363        21\n",
      "weighted avg      0.389     0.381     0.350        21\n",
      "\n"
     ]
    }
   ],
   "source": [
    "#True values\n",
    "y_true = [C,C,C,C,C,C,F,F,F,F,F,F,F,F,D,D,D,D,D,D,D]\n",
    "#Predicted values\n",
    "y_pred = [C,C,C,C,D,F,C,C,C,C,C,D,D,F,F,C,C,C,D,D,D]\n",
    "\n",
    "print(metrics.confusion_matrix(y_true,y_pred)) # confusion matrix\n",
    "\n",
    "print(metrics.classification_report(y_true, y_pred, digits=3))"
   ]
  },
  {
   "cell_type": "code",
   "execution_count": null,
   "id": "0a1e7883",
   "metadata": {},
   "outputs": [],
   "source": []
  },
  {
   "cell_type": "code",
   "execution_count": null,
   "id": "6da0d639",
   "metadata": {},
   "outputs": [],
   "source": []
  },
  {
   "cell_type": "code",
   "execution_count": null,
   "id": "18d9ef39",
   "metadata": {},
   "outputs": [],
   "source": []
  }
 ],
 "metadata": {
  "kernelspec": {
   "display_name": "Python 3",
   "language": "python",
   "name": "python3"
  },
  "language_info": {
   "codemirror_mode": {
    "name": "ipython",
    "version": 3
   },
   "file_extension": ".py",
   "mimetype": "text/x-python",
   "name": "python",
   "nbconvert_exporter": "python",
   "pygments_lexer": "ipython3",
   "version": "3.7.10"
  }
 },
 "nbformat": 4,
 "nbformat_minor": 5
}
